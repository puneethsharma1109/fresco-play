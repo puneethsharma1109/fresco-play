{
 "cells": [
  {
   "cell_type": "code",
   "execution_count": 6,
   "metadata": {},
   "outputs": [],
   "source": [
    "import numpy as np"
   ]
  },
  {
   "cell_type": "code",
   "execution_count": 7,
   "metadata": {},
   "outputs": [
    {
     "data": {
      "text/plain": [
       "numpy.ndarray"
      ]
     },
     "execution_count": 7,
     "metadata": {},
     "output_type": "execute_result"
    }
   ],
   "source": [
    "x = np.array([5,8,9,10,11])\n",
    "type(x)"
   ]
  },
  {
   "cell_type": "code",
   "execution_count": 8,
   "metadata": {},
   "outputs": [
    {
     "name": "stdout",
     "output_type": "stream",
     "text": [
      "[[ 6  9  5]\n",
      " [10 82 34]]\n"
     ]
    }
   ],
   "source": [
    "y = np.array([[6,9,5],[10,82,34]])\n",
    "print(y)"
   ]
  },
  {
   "cell_type": "code",
   "execution_count": 9,
   "metadata": {},
   "outputs": [
    {
     "name": "stdout",
     "output_type": "stream",
     "text": [
      "2 (2, 3) 6 int32 4 24\n"
     ]
    }
   ],
   "source": [
    "print(y.ndim, y.shape, y.size, y.dtype, y.itemsize, y.nbytes)"
   ]
  },
  {
   "cell_type": "code",
   "execution_count": 10,
   "metadata": {},
   "outputs": [
    {
     "name": "stdout",
     "output_type": "stream",
     "text": [
      "[[ 6.  9.  5.]\n",
      " [10. 82. 34.]]\n",
      "float64\n"
     ]
    }
   ],
   "source": [
    "y = np.array([[6, 9, 5],\n",
    "              [10, 82, 34]], \n",
    "             dtype='float64')  \n",
    "print(y)\n",
    "print(y.dtype)"
   ]
  },
  {
   "cell_type": "code",
   "execution_count": 12,
   "metadata": {},
   "outputs": [
    {
     "name": "stdout",
     "output_type": "stream",
     "text": [
      "[[ 6.  9.  5.]\n",
      " [10. 82. 34.]]\n",
      "float64\n",
      "8\n"
     ]
    }
   ],
   "source": [
    "y = np.array([[6, 9, 5],\n",
    "              [10, 82, 34]], \n",
    "             dtype='float64')  \n",
    "print(y)\n",
    "print(y.dtype)\n",
    "print(y.itemsize)"
   ]
  },
  {
   "cell_type": "code",
   "execution_count": 13,
   "metadata": {},
   "outputs": [
    {
     "data": {
      "text/plain": [
       "  C_CONTIGUOUS : True\n",
       "  F_CONTIGUOUS : False\n",
       "  OWNDATA : True\n",
       "  WRITEABLE : True\n",
       "  ALIGNED : True\n",
       "  WRITEBACKIFCOPY : False\n",
       "  UPDATEIFCOPY : False"
      ]
     },
     "execution_count": 13,
     "metadata": {},
     "output_type": "execute_result"
    }
   ],
   "source": [
    "y.flags"
   ]
  },
  {
   "cell_type": "code",
   "execution_count": 14,
   "metadata": {},
   "outputs": [
    {
     "name": "stdout",
     "output_type": "stream",
     "text": [
      "complex128\n"
     ]
    }
   ],
   "source": [
    "y = np.array([3+4j, 0.4+7.8j])\n",
    "print(y.dtype)"
   ]
  },
  {
   "cell_type": "code",
   "execution_count": null,
   "metadata": {},
   "outputs": [],
   "source": []
  },
  {
   "cell_type": "markdown",
   "metadata": {},
   "source": [
    "## Try it out - Array creation\n",
    "- Write the statement to import `numpy` package as `np`.\n",
    "- Define the list `n = [5, 10, 15, 20, 25]`.\n",
    "- Create a numpy array `x`, using `array` method of `numpy` package.\n",
    "    * `Hint` : Pass list `n` as argument to `array` method.\n",
    "- Determine the type of array `x`.\n",
    "- Determine the following attributes.\n",
    "    * Dimensions of `x`.\n",
    "    * Shape of `x`.\n",
    "    * Size of `x`."
   ]
  },
  {
   "cell_type": "code",
   "execution_count": 16,
   "metadata": {},
   "outputs": [
    {
     "name": "stdout",
     "output_type": "stream",
     "text": [
      "<class 'numpy.ndarray'>\n",
      "1 (5,) 5\n"
     ]
    }
   ],
   "source": [
    "n = [5,10,15,20,25]\n",
    "x = np.array(n)\n",
    "print(type(x))\n",
    "print(x.ndim, x.shape, x.size)"
   ]
  },
  {
   "cell_type": "markdown",
   "metadata": {},
   "source": []
  },
  {
   "cell_type": "markdown",
   "metadata": {},
   "source": [
    "## Try it out - Determine Attributes\n",
    "\n",
    "- Import `numpy` package as `np`.\n",
    "- Define the list of lists `n = [[-1, -2, -3, -4], [-2,-4, -6, -8]]`.\n",
    "\n",
    "- Create a numpy array `y`, using `array` method of `numpy` package.\n",
    "    * `Hint` : Pass list `n` as argument to `array` method.\n",
    "    \n",
    "- Determine the type of array `y`.\n",
    "\n",
    "- Determine the following attributes.\n",
    "    * Dimensions of `y`.\n",
    "    * Shape of `y`.\n",
    "    * Size of `y`.\n",
    "    * Type of each data element of `y`.\n",
    "    * Number of bytes occupied by each data element of `y`."
   ]
  },
  {
   "cell_type": "code",
   "execution_count": 15,
   "metadata": {},
   "outputs": [
    {
     "name": "stdout",
     "output_type": "stream",
     "text": [
      "int32\n",
      "2 (2, 4) 8 4 32\n"
     ]
    }
   ],
   "source": [
    "n = [[-1, -2, -3, -4], [-2,-4, -6, -8]]\n",
    "y = np.array(n)\n",
    "print(y.dtype)\n",
    "print(y.ndim, y.shape, y.size, y.itemsize, y.nbytes)"
   ]
  },
  {
   "cell_type": "markdown",
   "metadata": {},
   "source": [
    "## Creating NumPy arrays\n",
    "1. ndarrays from lists"
   ]
  },
  {
   "cell_type": "code",
   "execution_count": 17,
   "metadata": {},
   "outputs": [
    {
     "data": {
      "text/plain": [
       "(numpy.ndarray, 3, (2, 3, 2))"
      ]
     },
     "execution_count": 17,
     "metadata": {},
     "output_type": "execute_result"
    }
   ],
   "source": [
    "a = [[[4.1, 2.5], [1.1, 2.3], [9.1, 2.5]], \n",
    "     [[8.6, 9.9],[3.6, 4.3], [6.6, 0.3]]]\n",
    "\n",
    "x = np.array(a, dtype='float64')\n",
    "\n",
    "type(x), x.ndim, x.shape"
   ]
  },
  {
   "cell_type": "markdown",
   "metadata": {},
   "source": [
    "### Using `zeroes` method"
   ]
  },
  {
   "cell_type": "code",
   "execution_count": 18,
   "metadata": {},
   "outputs": [
    {
     "name": "stdout",
     "output_type": "stream",
     "text": [
      "[[0. 0. 0. 0.]\n",
      " [0. 0. 0. 0.]]\n"
     ]
    }
   ],
   "source": [
    "x = np.zeros(shape=(2,4))\n",
    "print(x)"
   ]
  },
  {
   "cell_type": "markdown",
   "metadata": {},
   "source": [
    "### Using `full` method"
   ]
  },
  {
   "cell_type": "code",
   "execution_count": 19,
   "metadata": {},
   "outputs": [
    {
     "name": "stdout",
     "output_type": "stream",
     "text": [
      "[[10.5 10.5 10.5]\n",
      " [10.5 10.5 10.5]]\n"
     ]
    }
   ],
   "source": [
    "y = np.full(shape=(2,3), fill_value=10.5)\n",
    "print(y)"
   ]
  },
  {
   "cell_type": "markdown",
   "metadata": {},
   "source": [
    "## Numeric Sequence Generators\n",
    "* `arange` : Numbers created based on step value.\n",
    "* Syntax - `numpy.arange([start, ]stop, [step, ]dtype=None)`\n",
    "* `linspace` : Numbers created based on size value.\n",
    "* Syntax - `numpy.linspace(start, stop, #num inbetween, endpoint=True, retstep=False, dtype=None)`"
   ]
  },
  {
   "cell_type": "code",
   "execution_count": 23,
   "metadata": {},
   "outputs": [
    {
     "name": "stdout",
     "output_type": "stream",
     "text": [
      "[ 3.   5.5  8.  10.5 13. ]\n"
     ]
    }
   ],
   "source": [
    "x = np.arange(3, 15, 2.5) # 2.5 is step\n",
    "print(x)"
   ]
  },
  {
   "cell_type": "code",
   "execution_count": 25,
   "metadata": {},
   "outputs": [
    {
     "name": "stdout",
     "output_type": "stream",
     "text": [
      "[ 3.  6.  9. 12. 15.]\n"
     ]
    }
   ],
   "source": [
    "y = np.linspace(3, 15, 5) # 5 is size of array 'y'\n",
    "print(y)"
   ]
  },
  {
   "cell_type": "markdown",
   "metadata": {},
   "source": [
    "## Random Number Generator\n",
    "* `random` module of numpy is used to generate various random sequences."
   ]
  },
  {
   "cell_type": "code",
   "execution_count": 28,
   "metadata": {},
   "outputs": [
    {
     "name": "stdout",
     "output_type": "stream",
     "text": [
      "[0.54340494 0.27836939]\n"
     ]
    }
   ],
   "source": [
    "np.random.seed(100) # setting seed\n",
    "x = np.random.rand(2) # 2 random numbers between 0 and 1\n",
    "\n",
    "print(x)"
   ]
  },
  {
   "cell_type": "code",
   "execution_count": 29,
   "metadata": {},
   "outputs": [
    {
     "name": "stdout",
     "output_type": "stream",
     "text": [
      "[33 25 20]\n"
     ]
    }
   ],
   "source": [
    "y = np.random.randint(10, 50, 3) # 3 random integers between 10 and 50\n",
    "\n",
    "print(y)"
   ]
  },
  {
   "cell_type": "markdown",
   "metadata": {},
   "source": [
    "## Simulating Normal Distribution"
   ]
  },
  {
   "cell_type": "code",
   "execution_count": 31,
   "metadata": {},
   "outputs": [
    {
     "name": "stdout",
     "output_type": "stream",
     "text": [
      "[-1.07004333 -0.18949583  0.25500144]\n"
     ]
    }
   ],
   "source": [
    "x = np.random.randn(3) # Standard normal distribution\n",
    "\n",
    "print(x)"
   ]
  },
  {
   "cell_type": "code",
   "execution_count": 33,
   "metadata": {},
   "outputs": [
    {
     "name": "stdout",
     "output_type": "stream",
     "text": [
      "[11.63369414 11.34544161  9.79117771]\n"
     ]
    }
   ],
   "source": [
    "y = 10 + 2*np.random.randn(3) # normal distribution with mean 10 and sd 2\n",
    "print(y)"
   ]
  },
  {
   "cell_type": "markdown",
   "metadata": {},
   "source": [
    "## Reading Data from a file\n",
    "- `loadtxt` is used to read data from a text file or any input data stream."
   ]
  },
  {
   "cell_type": "code",
   "execution_count": 34,
   "metadata": {},
   "outputs": [
    {
     "name": "stdout",
     "output_type": "stream",
     "text": [
      "[[88.25 93.45 72.6  90.9 ]\n",
      " [72.3  78.85 92.15 65.75]\n",
      " [90.5  92.45 89.25 94.5 ]]\n",
      "2 (3, 4)\n"
     ]
    }
   ],
   "source": [
    "from io import StringIO\n",
    "\n",
    "x = StringIO('''88.25 93.45 72.60 90.90\n",
    "72.3 78.85 92.15 65.75\n",
    "90.5 92.45 89.25 94.50\n",
    "''')\n",
    "\n",
    "d = np.loadtxt(x,delimiter=' ')\n",
    "print(d)\n",
    "print(d.ndim, d.shape)"
   ]
  },
  {
   "cell_type": "code",
   "execution_count": 35,
   "metadata": {},
   "outputs": [
    {
     "name": "stdout",
     "output_type": "stream",
     "text": [
      "[[1. 0.]\n",
      " [0. 1.]]\n"
     ]
    }
   ],
   "source": [
    "z = np.eye(2)\n",
    "print(z)"
   ]
  },
  {
   "cell_type": "code",
   "execution_count": 39,
   "metadata": {},
   "outputs": [
    {
     "name": "stdout",
     "output_type": "stream",
     "text": [
      "[[[-1  1 -1]\n",
      "  [-2  2 -2]]\n",
      "\n",
      " [[-3  3 -3]\n",
      "  [-4  4 -4]]]\n",
      "3 (2, 2, 3)\n"
     ]
    }
   ],
   "source": [
    "x = np.array([[[-1, 1,-1],[-2, 2, -2]],[[-3, 3, -3],[-4,4, -4]]])\n",
    "print(x)\n",
    "print(x.ndim, x.shape)"
   ]
  },
  {
   "cell_type": "code",
   "execution_count": 42,
   "metadata": {},
   "outputs": [
    {
     "name": "stdout",
     "output_type": "stream",
     "text": [
      "[[[1. 1. 1.]\n",
      "  [1. 1. 1.]]\n",
      "\n",
      " [[1. 1. 1.]\n",
      "  [1. 1. 1.]]\n",
      "\n",
      " [[1. 1. 1.]\n",
      "  [1. 1. 1.]]]\n"
     ]
    }
   ],
   "source": [
    "x1 = np.ones((3,2,3))\n",
    "print(x1)"
   ]
  },
  {
   "cell_type": "code",
   "execution_count": 43,
   "metadata": {},
   "outputs": [
    {
     "name": "stdout",
     "output_type": "stream",
     "text": [
      "[[1. 0. 0. 0.]\n",
      " [0. 1. 0. 0.]\n",
      " [0. 0. 1. 0.]\n",
      " [0. 0. 0. 1.]]\n"
     ]
    }
   ],
   "source": [
    "x3 = np.eye(4)\n",
    "print(x3)"
   ]
  },
  {
   "cell_type": "markdown",
   "metadata": {},
   "source": [
    "## Reshaping ndarrays\n",
    "- Shape of an array can be changed using `reshape`."
   ]
  },
  {
   "cell_type": "code",
   "execution_count": 44,
   "metadata": {},
   "outputs": [
    {
     "name": "stdout",
     "output_type": "stream",
     "text": [
      "[29 73 63 37 66 40 58 57]\n",
      "\n",
      "[[29 73 63 37]\n",
      " [66 40 58 57]]\n",
      "\n",
      "[[[29 73]\n",
      "  [63 37]]\n",
      "\n",
      " [[66 40]\n",
      "  [58 57]]] \n",
      "\n",
      "\n"
     ]
    }
   ],
   "source": [
    "x = np.random.randint(10, 100, 8)\n",
    "print(x, end='\\n\\n')\n",
    "y = x.reshape(2,4)\n",
    "print(y, end='\\n\\n')\n",
    "z = x.reshape(2,2,2)\n",
    "print(z, '\\n\\n')"
   ]
  },
  {
   "cell_type": "markdown",
   "metadata": {},
   "source": [
    "## Stacking arrays vertically\n",
    "- Two or more arrays can be joined vertically using the generic `vstack` method."
   ]
  },
  {
   "cell_type": "code",
   "execution_count": 45,
   "metadata": {},
   "outputs": [
    {
     "data": {
      "text/plain": [
       "array([[-1,  1],\n",
       "       [-3,  3],\n",
       "       [-2,  2],\n",
       "       [-4,  4]])"
      ]
     },
     "execution_count": 45,
     "metadata": {},
     "output_type": "execute_result"
    }
   ],
   "source": [
    "x = np.array([[-1, 1], [-3, 3]])\n",
    "y = np.array([[-2, 2], [-4, 4]])\n",
    "np.vstack((x,y))"
   ]
  },
  {
   "cell_type": "markdown",
   "metadata": {},
   "source": [
    "## Stacking arrays horizontally\n",
    "- Two or more arrays can be joined horizontally using the generic `hstack` method."
   ]
  },
  {
   "cell_type": "code",
   "execution_count": 48,
   "metadata": {},
   "outputs": [
    {
     "name": "stdout",
     "output_type": "stream",
     "text": [
      "(2, 6)\n"
     ]
    }
   ],
   "source": [
    "x = np.array([[-1, 1], [-3, 3]])\n",
    "y = np.array([[-2, 2], [-4, 4]])\n",
    "z = np.array([[-5, 5], [-6, 6]])\n",
    "a = np.hstack((x,y,z))\n",
    "print(a.shape)"
   ]
  },
  {
   "cell_type": "markdown",
   "metadata": {},
   "source": [
    "## Splitting arrays vertically\n",
    "- Arrays can be split vertically using the generic `vsplit` method."
   ]
  },
  {
   "cell_type": "code",
   "execution_count": 49,
   "metadata": {},
   "outputs": [
    {
     "name": "stdout",
     "output_type": "stream",
     "text": [
      "[[ 0  1  2  3  4]\n",
      " [ 5  6  7  8  9]\n",
      " [10 11 12 13 14]]\n",
      "\n",
      "[[15 16 17 18 19]\n",
      " [20 21 22 23 24]\n",
      " [25 26 27 28 29]]\n"
     ]
    }
   ],
   "source": [
    "x = np.arange(30).reshape(6, 5)\n",
    "res = np.vsplit(x, 2)\n",
    "print(res[0], end='\\n\\n')\n",
    "print(res[1])"
   ]
  },
  {
   "cell_type": "markdown",
   "metadata": {},
   "source": [
    "## Splitting arrays Horizontally\n",
    "- Arrays can be split horizontally using the generic `hsplit` method."
   ]
  },
  {
   "cell_type": "code",
   "execution_count": 50,
   "metadata": {},
   "outputs": [
    {
     "name": "stdout",
     "output_type": "stream",
     "text": [
      "[[0 1]\n",
      " [5 6]]\n",
      "\n",
      "[[2 3]\n",
      " [7 8]]\n",
      "\n",
      "[[4]\n",
      " [9]]\n"
     ]
    }
   ],
   "source": [
    "x = np.arange(10).reshape(2, 5)\n",
    "res = np.hsplit(x, (2,4))\n",
    "print(res[0], end='\\n\\n')\n",
    "print(res[1], end='\\n\\n')\n",
    "print(res[2])"
   ]
  },
  {
   "cell_type": "markdown",
   "metadata": {},
   "source": [
    "## Try it Out - Array Manipulation 1\n",
    "- Create a ndarray `x` having first 20 natural numbers, using `arange` method.\n",
    "- Determine the shape of `x`.\n",
    "- Change the shape of `x` to `(2, 10)` and assign it to new array `y`.\n",
    "- Split the array `y` horizontally in to two array"
   ]
  },
  {
   "cell_type": "code",
   "execution_count": 59,
   "metadata": {},
   "outputs": [
    {
     "name": "stdout",
     "output_type": "stream",
     "text": [
      "(20,)\n",
      "[[ 1  2  3  4  5  6  7  8  9 10]\n",
      " [11 12 13 14 15 16 17 18 19 20]]\n",
      "[[ 1  2  3  4  5]\n",
      " [11 12 13 14 15]]\n",
      "[[ 6  7  8  9 10]\n",
      " [16 17 18 19 20]]\n"
     ]
    }
   ],
   "source": [
    "x = np.arange(1, 21)\n",
    "print(x.shape)\n",
    "y = np.reshape(x, (2, 10))\n",
    "print(y)\n",
    "res = np.hsplit(y, (2))\n",
    "print(res[0])\n",
    "print(res[1])"
   ]
  },
  {
   "cell_type": "markdown",
   "metadata": {},
   "source": [
    "## Try it Out - Array Manipulation 2\n",
    "- Now, Change the shape of x to `(4, 5)` and assign it to new array `z`.\n",
    "- Split the array `z` vertically in to two arrays.\n",
    "    * Hint: Use `vsplit`"
   ]
  },
  {
   "cell_type": "code",
   "execution_count": 60,
   "metadata": {},
   "outputs": [
    {
     "name": "stdout",
     "output_type": "stream",
     "text": [
      "[[ 1  2  3  4  5]\n",
      " [ 6  7  8  9 10]]\n",
      "[[11 12 13 14 15]\n",
      " [16 17 18 19 20]]\n"
     ]
    }
   ],
   "source": [
    "z = np.reshape(x, (4,5))\n",
    "print(z)\n",
    "res= np.vsplit(z, 2)\n",
    "print(res[0])\n",
    "print(res[1])"
   ]
  },
  {
   "cell_type": "markdown",
   "metadata": {},
   "source": [
    "## Try it Out - Join Arrays\n",
    "- Create a 2-D array `p`, of shape `(2, 2)` with elements `3, 6, 9, 12`.\n",
    "- Create a 2-D array `q`, of shape `(2, 3)` with elements `15, 18, 21, 24, 27, 30`.\n",
    "- Join the two arrays `p` and `q` horizontally."
   ]
  },
  {
   "cell_type": "code",
   "execution_count": 64,
   "metadata": {},
   "outputs": [
    {
     "name": "stdout",
     "output_type": "stream",
     "text": [
      "[[ 3  6]\n",
      " [ 9 12]]\n",
      "[[15 18 21]\n",
      " [24 27 30]]\n",
      "[[ 3  6 15 18 21]\n",
      " [ 9 12 24 27 30]]\n"
     ]
    }
   ],
   "source": [
    "p = np.array([3,6,9,12]).reshape(2,2)\n",
    "print(p)\n",
    "q = np.array([15, 18, 21, 24, 27, 30]).reshape(2,3)\n",
    "print(q)\n",
    "res = np.hstack((p,q))\n",
    "print(res)"
   ]
  },
  {
   "cell_type": "markdown",
   "metadata": {},
   "source": [
    "## Basic Operations with Scalars\n",
    "- Operations in Numpy are carried out element wise.\n",
    "- Hence the expression `x + 10`, increases every element of array `x` by `10`."
   ]
  },
  {
   "cell_type": "code",
   "execution_count": 65,
   "metadata": {},
   "outputs": [
    {
     "name": "stdout",
     "output_type": "stream",
     "text": [
      "[[10 11 12]\n",
      " [13 14 15]]\n",
      "\n",
      "[[ 0  3  6]\n",
      " [ 9 12 15]]\n",
      "\n",
      "[[0 1 0]\n",
      " [1 0 1]]\n"
     ]
    }
   ],
   "source": [
    "x = np.arange(6).reshape(2,3)\n",
    "print(x + 10, end='\\n\\n')\n",
    "print(x * 3, end='\\n\\n')\n",
    "print(x % 2)"
   ]
  },
  {
   "cell_type": "markdown",
   "metadata": {},
   "source": [
    "## Basic Operations between Arrays\n",
    "- Operations between arrays also happen element wise."
   ]
  },
  {
   "cell_type": "code",
   "execution_count": 66,
   "metadata": {},
   "outputs": [
    {
     "name": "stdout",
     "output_type": "stream",
     "text": [
      "[[ 3 -3]\n",
      " [ 3 -3]]\n",
      "\n",
      "[[ -4  -4]\n",
      " [-10 -10]]\n"
     ]
    }
   ],
   "source": [
    "x = np.array([[-1, 1], [-2, 2]])\n",
    "y = np.array([[4, -4], [5, -5]])\n",
    "print(x + y, end='\\n\\n')\n",
    "print(x * y)"
   ]
  },
  {
   "cell_type": "markdown",
   "metadata": {},
   "source": [
    "## Basic Operations between Arrays\n",
    "- It is also possible to perform operations on arrays with varying size and shape."
   ]
  },
  {
   "cell_type": "code",
   "execution_count": 68,
   "metadata": {},
   "outputs": [
    {
     "name": "stdout",
     "output_type": "stream",
     "text": [
      "[[10 10]\n",
      " [20 20]]\n"
     ]
    }
   ],
   "source": [
    "x = np.array([[-1, 1], [-2, 2]])\n",
    "y = np.array([-10, 10])\n",
    "print(x * y)"
   ]
  },
  {
   "cell_type": "markdown",
   "metadata": {},
   "source": [
    "## NumPy Universal Functions\n",
    "    - Numpy provides a lot of mathematical functions, in the form of `Universal functions`."
   ]
  },
  {
   "cell_type": "code",
   "execution_count": 69,
   "metadata": {},
   "outputs": [
    {
     "name": "stdout",
     "output_type": "stream",
     "text": [
      "[[0 1]\n",
      " [4 9]]\n",
      "\n",
      "[[0.         0.84147098]\n",
      " [0.90929743 0.14112001]]\n"
     ]
    }
   ],
   "source": [
    "x = np.array([[0,1], [2,3]])\n",
    "print(np.square(x), end='\\n\\n')\n",
    "print(np.sin(x))"
   ]
  },
  {
   "cell_type": "markdown",
   "metadata": {},
   "source": [
    "## NumPy Array Methods\n",
    "- Many of the universal functions are available as methods of `ndarray` class.\n",
    "- By default `sum` method adds all array elements.\n",
    "- It is also possible to apply `sum` method on elements of a specific dimension, using `axis` argument."
   ]
  },
  {
   "cell_type": "code",
   "execution_count": 70,
   "metadata": {},
   "outputs": [
    {
     "name": "stdout",
     "output_type": "stream",
     "text": [
      "6\n",
      "\n",
      "[2 4]\n",
      "\n",
      "[1 5]\n"
     ]
    }
   ],
   "source": [
    "x = np.array([[0,1], [2, 3]])\n",
    "print(x.sum(), end='\\n\\n')\n",
    "print(x.sum(axis=0), end='\\n\\n')\n",
    "print(x.sum(axis=1))"
   ]
  },
  {
   "cell_type": "markdown",
   "metadata": {},
   "source": [
    "## Try it Out - Operations on Arrays 1\n",
    "- Create a 2-D array `y` of shape `(2, 3)`, having numbers from `1 to 6`.\n",
    "- Square each element of `y`.\n",
    "- Add `5` to each element of resulted array."
   ]
  },
  {
   "cell_type": "code",
   "execution_count": 75,
   "metadata": {},
   "outputs": [
    {
     "name": "stdout",
     "output_type": "stream",
     "text": [
      "[[ 1  4  9]\n",
      " [16 25 36]]\n",
      "[[ 6  7  8]\n",
      " [ 9 10 11]]\n"
     ]
    }
   ],
   "source": [
    "y = np.arange(1, 7).reshape((2,3))\n",
    "print(np.square(y))\n",
    "print(np.add(y, 5))"
   ]
  },
  {
   "cell_type": "markdown",
   "metadata": {},
   "source": [
    "## Try it Out - Operation on Arrays 2\n",
    "- Create a array `x` of shape `(5, 6)`, having random integers between `-30 and 30`.\n",
    "- Determine the cumulative `sum` of `x` along axis `0`.\n",
    "- Determine the cumulative `sum` of `x` along axis `1`."
   ]
  },
  {
   "cell_type": "code",
   "execution_count": 78,
   "metadata": {},
   "outputs": [
    {
     "name": "stdout",
     "output_type": "stream",
     "text": [
      "[[  8  12  -8 -30  28  25]\n",
      " [  4 -11  23 -26  20 -26]\n",
      " [  5  -7 -21  18  18  -9]\n",
      " [ -5  24 -24   7   8  28]\n",
      " [ 22  28   9  13   0  21]]\n",
      "[ 34  46 -21 -18  74  39]\n",
      "[ 35 -16   4  38  93]\n"
     ]
    }
   ],
   "source": [
    "x = np.random.randint(-30, 30,30).reshape(5,6)\n",
    "print(x)\n",
    "print(x.sum(axis=0))\n",
    "print(x.sum(axis=1))"
   ]
  },
  {
   "cell_type": "markdown",
   "metadata": {},
   "source": [
    "## Try it Out - Operation on Arrays 3\n",
    "- Create a array `x` of shape `(50, )`, having `50` random numbers from a normal distribution of mean `10` and standard deviation `2`.\n",
    "- Calculate mean of `x`\n",
    "- Calculate Standard deviation of `x`\n",
    "- Calculate variance of `x`."
   ]
  },
  {
   "cell_type": "code",
   "execution_count": 81,
   "metadata": {},
   "outputs": [
    {
     "name": "stdout",
     "output_type": "stream",
     "text": [
      "[ 9.70376315 11.80984006 10.61136951  7.46119949 12.51242636  8.62710554\n",
      "  5.61107763 11.05933149  7.02556647  8.95990908  9.55219946  9.39471485\n",
      " 10.92053024 10.43326464  9.40636999 11.59995673  9.15860047 12.29462347\n",
      "  9.0729052   9.99443926  9.15730796  6.53831952  9.82786318 12.35800073\n",
      " 11.51375265  9.01402937 10.7696334   9.34147445  8.61504053  9.30888146\n",
      "  8.6493174   8.83212007 10.61137075 11.13985966  8.20586759  7.57711696\n",
      "  9.82980548  7.78836845 10.7005457  11.67295773 11.45855833 11.05212575\n",
      " 11.34098933 11.50961626  7.25192004 10.90523562 14.73391199  9.53088302\n",
      "  9.99361165  8.33509237]\n",
      "9.855455409882667\n",
      "1.7158657822326928\n",
      "2.9441953826370106\n"
     ]
    }
   ],
   "source": [
    "x = 10 + 2* np.random.randn(50)\n",
    "print(x)\n",
    "print(x.mean())\n",
    "print(x.std())\n",
    "print(x.var())"
   ]
  },
  {
   "cell_type": "markdown",
   "metadata": {},
   "source": [
    "## Indexing, Slicing a 1-D ndarray\n",
    "- Slicing refers to extracting a portion of existing array.\n",
    "- This can be achieved with a `slice object`.\n",
    "- A `slice object` is of the form `start:end:step`. All three are optional.\n",
    "- Having only a single number inside square brackets refer to `start` index."
   ]
  },
  {
   "cell_type": "code",
   "execution_count": 82,
   "metadata": {},
   "outputs": [
    {
     "name": "stdout",
     "output_type": "stream",
     "text": [
      "10\n",
      "[10 15 20 25 30]\n",
      "[10 25]\n"
     ]
    }
   ],
   "source": [
    "x = np.array([5, 10, 15, 20, 25, 30, 35])\n",
    "print(x[1])  # Indexing\n",
    "print(x[1:6]) # Slicing\n",
    "print(x[1:6:3]) # Slicing"
   ]
  },
  {
   "cell_type": "markdown",
   "metadata": {},
   "source": [
    "## Indexing, Slicing a 2-D ndarray\n",
    "- Two `slice objects`, one for each dimension, are required to slice a 2-D array.\n",
    "- They are separated by a `comma (,)` and having only a single slice object inside square brackets refers to first dimension.\n",
    "- All elements of a single dimension can be referred with a `colon (:)`."
   ]
  },
  {
   "cell_type": "code",
   "execution_count": 83,
   "metadata": {},
   "outputs": [
    {
     "name": "stdout",
     "output_type": "stream",
     "text": [
      "[[4 5]]\n",
      "[3 4 5]\n",
      "[1 4]\n"
     ]
    }
   ],
   "source": [
    "y = np.array([[0, 1, 2],\n",
    "              [3, 4, 5]])\n",
    "print(y[1:2, 1:3]) \n",
    "print(y[1])   \n",
    "print(y[:, 1]) "
   ]
  },
  {
   "cell_type": "markdown",
   "metadata": {},
   "source": [
    "## Slicing Higher Dimensions ndarrays\n",
    "- For slicing an `n` dimensional ndarray, `n` slice objects are required.\n",
    "- Having only a single slice object refers to first dimension."
   ]
  },
  {
   "cell_type": "code",
   "execution_count": 84,
   "metadata": {},
   "outputs": [
    {
     "name": "stdout",
     "output_type": "stream",
     "text": [
      "[4 5]\n",
      "[[-5  5]\n",
      " [-9  9]]\n",
      "[[-7  7]\n",
      " [-9  9]]\n"
     ]
    }
   ],
   "source": [
    "z = np.array([[[-1, 1], [-2, 2]],\n",
    "              [[-4, 4], [-5, 5]],\n",
    "              [[-7, 7], [-9, 9]]])\n",
    "print(z[1,:,1]) # index 1 element in row of index 1\n",
    "print(z[1:,1,:]) # From all outer rows except the first, select 1st index element (which itself is an array) completely.\n",
    "print(z[2]) # print 2nd index element"
   ]
  },
  {
   "cell_type": "markdown",
   "metadata": {},
   "source": [
    "## Iterating using 'for'\n",
    "- `for` loop can be used to iterate over every dimensional element."
   ]
  },
  {
   "cell_type": "code",
   "execution_count": 85,
   "metadata": {},
   "outputs": [
    {
     "name": "stdout",
     "output_type": "stream",
     "text": [
      "Row : [-1  1]\n",
      "Row : [-2  2]\n"
     ]
    }
   ],
   "source": [
    "x = np.array([[-1, 1], [-2, 2]])\n",
    "for row in x:\n",
    "    print('Row :',row)"
   ]
  },
  {
   "cell_type": "markdown",
   "metadata": {},
   "source": [
    "## Iterating using 'nditer'\n",
    "- `nditer` method of numpy creates an iterator, which enable accessing each element one after the other."
   ]
  },
  {
   "cell_type": "code",
   "execution_count": 86,
   "metadata": {},
   "outputs": [
    {
     "name": "stdout",
     "output_type": "stream",
     "text": [
      "0\n",
      "1\n",
      "2\n",
      "3\n"
     ]
    }
   ],
   "source": [
    "x = np.array([[0,1], [2, 3]])\n",
    "for a in np.nditer(x):\n",
    "    print(a)"
   ]
  },
  {
   "cell_type": "markdown",
   "metadata": {},
   "source": [
    "## Boolean Indexing\n",
    "- Checking if every element of an array satisfies a condition, results in a Boolean array.\n",
    "- This Boolean array can be used as index to filter elements that satisfy the condition."
   ]
  },
  {
   "cell_type": "code",
   "execution_count": 88,
   "metadata": {},
   "outputs": [
    {
     "name": "stdout",
     "output_type": "stream",
     "text": [
      "[[0 1 2 3 4]\n",
      " [5 6 7 8 9]]\n",
      "[[ True False  True False  True]\n",
      " [False  True False  True False]]\n",
      "[0 2 4 6 8]\n"
     ]
    }
   ],
   "source": [
    "x = np.arange(10).reshape(2,5)\n",
    "print(x)\n",
    "condition = x % 2 == 0\n",
    "print(condition)\n",
    "print(x[condition])"
   ]
  },
  {
   "cell_type": "markdown",
   "metadata": {},
   "source": [
    "## Try it Out - Array Indexing\n",
    "- Create a array `x` of shape `(6, 5)`, having first `30` natural numbers.\n",
    "- Obtain elements of last row.\n",
    "- Obtain elements of middle column.\n",
    "- Obtain elements, overlapping first two rows and last three columns."
   ]
  },
  {
   "cell_type": "code",
   "execution_count": 123,
   "metadata": {},
   "outputs": [
    {
     "name": "stdout",
     "output_type": "stream",
     "text": [
      "[[ 1  2  3  4  5]\n",
      " [ 6  7  8  9 10]\n",
      " [11 12 13 14 15]\n",
      " [16 17 18 19 20]\n",
      " [21 22 23 24 25]\n",
      " [26 27 28 29 30]]\n",
      "[26 27 28 29 30]\n",
      "[ 3  8 13 18 23 28]\n",
      "[[ 3  4  5]\n",
      " [ 8  9 10]]\n"
     ]
    }
   ],
   "source": [
    "x = np.arange(1, 31).reshape(6,5)\n",
    "print(x)\n",
    "print(x[-1])\n",
    "print(x[:, 2])\n",
    "print(x[:2, 2:])\n"
   ]
  },
  {
   "cell_type": "markdown",
   "metadata": {},
   "source": [
    "## Try it Out - Slicing\n",
    "- Create a array `x` of shape `(2, 3, 5)`, having first `30` natural numbers.\n",
    "- Create a boolean array `b` of shape `(2,)`, having elements `True`, `False`.\n",
    "- Try the following expressions\n",
    "    * `x[b]`\n",
    "    * `x[b,:,1:3]`"
   ]
  },
  {
   "cell_type": "code",
   "execution_count": 125,
   "metadata": {},
   "outputs": [
    {
     "name": "stdout",
     "output_type": "stream",
     "text": [
      "[[[ 1  2  3  4  5]\n",
      "  [ 6  7  8  9 10]\n",
      "  [11 12 13 14 15]]\n",
      "\n",
      " [[16 17 18 19 20]\n",
      "  [21 22 23 24 25]\n",
      "  [26 27 28 29 30]]]\n",
      "[[[ 1  2  3  4  5]\n",
      "  [ 6  7  8  9 10]\n",
      "  [11 12 13 14 15]]]\n",
      "[[[ 2  3]\n",
      "  [ 7  8]\n",
      "  [12 13]]]\n"
     ]
    }
   ],
   "source": [
    "x = np.arange(1,31).reshape(2,3,5)\n",
    "print(x)\n",
    "b = [True, False]\n",
    "print(x[b])\n",
    "print(x[b,:,1:3])"
   ]
  }
 ],
 "metadata": {
  "interpreter": {
   "hash": "a0f7c8bf0f1c1166a5663620cfd25368dc185710d32e01328cc9a7ea99e0a52a"
  },
  "kernelspec": {
   "display_name": "Python 3.10.0 64-bit",
   "language": "python",
   "name": "python3"
  },
  "language_info": {
   "codemirror_mode": {
    "name": "ipython",
    "version": 3
   },
   "file_extension": ".py",
   "mimetype": "text/x-python",
   "name": "python",
   "nbconvert_exporter": "python",
   "pygments_lexer": "ipython3",
   "version": "3.10.0"
  },
  "orig_nbformat": 4
 },
 "nbformat": 4,
 "nbformat_minor": 2
}
